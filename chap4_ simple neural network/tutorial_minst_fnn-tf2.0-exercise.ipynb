{
 "cells": [
  {
   "cell_type": "markdown",
   "metadata": {},
   "source": [
    "## 准备数据"
   ]
  },
  {
   "cell_type": "code",
   "execution_count": 1,
   "metadata": {},
   "outputs": [],
   "source": [
    "import os\n",
    "os.environ['KMP_DUPLICATE_LIB_OK']='True'\n",
    "import numpy as np\n",
    "import tensorflow as tf\n",
    "from tensorflow import keras\n",
    "from tensorflow.keras import layers, optimizers, datasets\n",
    "\n",
    "os.environ['TF_CPP_MIN_LOG_LEVEL'] = '2'  # or any {'0', '1', '2'}\n",
    "\n",
    "def mnist_dataset():\n",
    "    (x, y), (x_test, y_test) = datasets.mnist.load_data()\n",
    "    #normalize\n",
    "    x = x/255.0\n",
    "    x_test = x_test/255.0\n",
    "    \n",
    "    return (x, y), (x_test, y_test)"
   ]
  },
  {
   "cell_type": "code",
   "execution_count": 2,
   "metadata": {},
   "outputs": [
    {
     "name": "stdout",
     "output_type": "stream",
     "text": [
      "[(1, 'a'), (2, 'b'), (3, 'c'), (4, 'd')]\n"
     ]
    }
   ],
   "source": [
    "print(list(zip([1, 2, 3, 4], ['a', 'b', 'c', 'd'])))"
   ]
  },
  {
   "cell_type": "markdown",
   "metadata": {},
   "source": [
    "## 建立模型"
   ]
  },
  {
   "cell_type": "code",
   "execution_count": 3,
   "metadata": {},
   "outputs": [],
   "source": [
    "class myModel:\n",
    "    def __init__(self):\n",
    "        ####################\n",
    "        '''声明模型对应的参数'''\n",
    "        ####################\n",
    "        # 定义第一个全连接层的权重和偏置\n",
    "        # 输入展平后为 28*28 = 784 维，输出维度为 512\n",
    "        self.W1 = tf.Variable(\n",
    "            initial_value=tf.random.uniform([28*28, 512], minval=-0.1, maxval=0.1),\n",
    "            dtype=tf.float32\n",
    "        )\n",
    "        self.b1 = tf.Variable(\n",
    "            initial_value=tf.zeros([512]),\n",
    "            dtype=tf.float32\n",
    "        )\n",
    "        # 定义第二个全连接层的权重和偏置\n",
    "        # 隐藏层输出维度为 512，输出层对应 10 个类别\n",
    "        self.W2 = tf.Variable(\n",
    "            initial_value=tf.random.uniform([512, 10], minval=-0.1, maxval=0.1),\n",
    "            dtype=tf.float32\n",
    "        )\n",
    "        self.b2 = tf.Variable(\n",
    "            initial_value=tf.zeros([10]),\n",
    "            dtype=tf.float32\n",
    "        )\n",
    "\n",
    "    def __call__(self, x):\n",
    "        ####################\n",
    "        '''实现模型函数体，返回未归一化的logits'''\n",
    "        ####################\n",
    "        # 将输入 x 展平为二维张量 [batch_size, 784]\n",
    "        flat_x = tf.reshape(x, shape=[-1, 28*28])\n",
    "        \n",
    "        # 计算第一个全连接层的输出，并使用 ReLU 激活函数\n",
    "        h1 = tf.nn.relu(tf.matmul(flat_x, self.W1) + self.b1)\n",
    "        \n",
    "        # 计算输出层 logits，不使用激活函数（返回未归一化的值）\n",
    "        logits = tf.matmul(h1, self.W2) + self.b2\n",
    "        return logits\n",
    "        \n",
    "model = myModel()\n",
    "\n",
    "optimizer = optimizers.Adam()"
   ]
  },
  {
   "cell_type": "markdown",
   "metadata": {},
   "source": [
    "## 计算 loss"
   ]
  },
  {
   "cell_type": "code",
   "execution_count": 4,
   "metadata": {},
   "outputs": [],
   "source": [
    "@tf.function\n",
    "def compute_loss(logits, labels):\n",
    "    return tf.reduce_mean(\n",
    "        tf.nn.sparse_softmax_cross_entropy_with_logits(\n",
    "            logits=logits, labels=labels))\n",
    "\n",
    "@tf.function\n",
    "def compute_accuracy(logits, labels):\n",
    "    predictions = tf.argmax(logits, axis=1)\n",
    "    return tf.reduce_mean(tf.cast(tf.equal(predictions, labels), tf.float32))\n",
    "\n",
    "@tf.function\n",
    "def train_one_step(model, optimizer, x, y):\n",
    "    with tf.GradientTape() as tape:\n",
    "        logits = model(x)\n",
    "        loss = compute_loss(logits, y)\n",
    "\n",
    "    # compute gradient\n",
    "    trainable_vars = [model.W1, model.W2, model.b1, model.b2]\n",
    "    grads = tape.gradient(loss, trainable_vars)\n",
    "    for g, v in zip(grads, trainable_vars):\n",
    "        v.assign_sub(0.01*g)\n",
    "\n",
    "    accuracy = compute_accuracy(logits, y)\n",
    "\n",
    "    # loss and accuracy is scalar tensor\n",
    "    return loss, accuracy\n",
    "\n",
    "@tf.function\n",
    "def test(model, x, y):\n",
    "    logits = model(x)\n",
    "    loss = compute_loss(logits, y)\n",
    "    accuracy = compute_accuracy(logits, y)\n",
    "    return loss, accuracy"
   ]
  },
  {
   "cell_type": "markdown",
   "metadata": {},
   "source": [
    "## 实际训练"
   ]
  },
  {
   "cell_type": "code",
   "execution_count": 5,
   "metadata": {},
   "outputs": [
    {
     "name": "stdout",
     "output_type": "stream",
     "text": [
      "epoch 0 : loss 2.495654 ; accuracy 0.0805\n",
      "epoch 1 : loss 2.4653149 ; accuracy 0.08241667\n",
      "epoch 2 : loss 2.4375677 ; accuracy 0.08505\n",
      "epoch 3 : loss 2.4120104 ; accuracy 0.08755\n",
      "epoch 4 : loss 2.3883152 ; accuracy 0.0913\n",
      "epoch 5 : loss 2.3662112 ; accuracy 0.09565\n",
      "epoch 6 : loss 2.345474 ; accuracy 0.10185\n",
      "epoch 7 : loss 2.325919 ; accuracy 0.109516665\n",
      "epoch 8 : loss 2.307389 ; accuracy 0.11731666\n",
      "epoch 9 : loss 2.2897506 ; accuracy 0.12593333\n",
      "epoch 10 : loss 2.2728932 ; accuracy 0.1356\n",
      "epoch 11 : loss 2.2567225 ; accuracy 0.14576666\n",
      "epoch 12 : loss 2.2411551 ; accuracy 0.15778333\n",
      "epoch 13 : loss 2.2261221 ; accuracy 0.1702\n",
      "epoch 14 : loss 2.2115636 ; accuracy 0.18245\n",
      "epoch 15 : loss 2.1974282 ; accuracy 0.19521667\n",
      "epoch 16 : loss 2.183671 ; accuracy 0.2073\n",
      "epoch 17 : loss 2.1702523 ; accuracy 0.22033334\n",
      "epoch 18 : loss 2.1571403 ; accuracy 0.23386666\n",
      "epoch 19 : loss 2.1443064 ; accuracy 0.24685\n",
      "epoch 20 : loss 2.1317253 ; accuracy 0.25916666\n",
      "epoch 21 : loss 2.1193745 ; accuracy 0.27178332\n",
      "epoch 22 : loss 2.1072347 ; accuracy 0.28336668\n",
      "epoch 23 : loss 2.0952892 ; accuracy 0.2957\n",
      "epoch 24 : loss 2.0835245 ; accuracy 0.30843332\n",
      "epoch 25 : loss 2.071928 ; accuracy 0.3205\n",
      "epoch 26 : loss 2.0604877 ; accuracy 0.33218333\n",
      "epoch 27 : loss 2.0491934 ; accuracy 0.34463334\n",
      "epoch 28 : loss 2.038038 ; accuracy 0.356\n",
      "epoch 29 : loss 2.0270126 ; accuracy 0.36726665\n",
      "epoch 30 : loss 2.0161107 ; accuracy 0.37828332\n",
      "epoch 31 : loss 2.005326 ; accuracy 0.38908333\n",
      "epoch 32 : loss 1.994654 ; accuracy 0.39988333\n",
      "epoch 33 : loss 1.9840888 ; accuracy 0.41091666\n",
      "epoch 34 : loss 1.9736273 ; accuracy 0.42026666\n",
      "epoch 35 : loss 1.9632654 ; accuracy 0.43013334\n",
      "epoch 36 : loss 1.9529992 ; accuracy 0.4399\n",
      "epoch 37 : loss 1.9428263 ; accuracy 0.44993332\n",
      "epoch 38 : loss 1.932743 ; accuracy 0.45998332\n",
      "epoch 39 : loss 1.9227471 ; accuracy 0.46923333\n",
      "epoch 40 : loss 1.9128373 ; accuracy 0.47755\n",
      "epoch 41 : loss 1.9030104 ; accuracy 0.48665\n",
      "epoch 42 : loss 1.8932651 ; accuracy 0.49533334\n",
      "epoch 43 : loss 1.8836002 ; accuracy 0.5038667\n",
      "epoch 44 : loss 1.8740135 ; accuracy 0.51185\n",
      "epoch 45 : loss 1.8645034 ; accuracy 0.51993334\n",
      "epoch 46 : loss 1.8550681 ; accuracy 0.52718335\n",
      "epoch 47 : loss 1.845707 ; accuracy 0.53475\n",
      "epoch 48 : loss 1.836419 ; accuracy 0.54186666\n",
      "epoch 49 : loss 1.8272023 ; accuracy 0.54865\n",
      "test loss 1.8077383 ; accuracy 0.5661\n"
     ]
    }
   ],
   "source": [
    "train_data, test_data = mnist_dataset()\n",
    "for epoch in range(50):\n",
    "    loss, accuracy = train_one_step(model, optimizer, \n",
    "                                    tf.constant(train_data[0], dtype=tf.float32), \n",
    "                                    tf.constant(train_data[1], dtype=tf.int64))\n",
    "    print('epoch', epoch, ': loss', loss.numpy(), '; accuracy', accuracy.numpy())\n",
    "loss, accuracy = test(model, \n",
    "                      tf.constant(test_data[0], dtype=tf.float32), \n",
    "                      tf.constant(test_data[1], dtype=tf.int64))\n",
    "\n",
    "print('test loss', loss.numpy(), '; accuracy', accuracy.numpy())"
   ]
  }
 ],
 "metadata": {
  "kernelspec": {
   "display_name": "tf",
   "language": "python",
   "name": "python3"
  },
  "language_info": {
   "codemirror_mode": {
    "name": "ipython",
    "version": 3
   },
   "file_extension": ".py",
   "mimetype": "text/x-python",
   "name": "python",
   "nbconvert_exporter": "python",
   "pygments_lexer": "ipython3",
   "version": "3.9.18"
  }
 },
 "nbformat": 4,
 "nbformat_minor": 2
}
