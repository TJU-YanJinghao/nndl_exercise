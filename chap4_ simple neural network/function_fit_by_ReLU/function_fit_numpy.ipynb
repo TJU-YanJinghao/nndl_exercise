{
 "cells": [
  {
   "cell_type": "markdown",
   "id": "509f3882",
   "metadata": {},
   "source": [
    "# 使用 NumPy 实现简单神经网络拟合回归问题\n",
    "\n",
    "本 Notebook 演示如何使用 NumPy 手动实现一个简单的两层神经网络，利用 ReLU 激活函数和均方误差损失拟合目标函数：\n",
    "\n",
    "$$ f(x)=\\sin(x)+0.1x^2 $$\n",
    "\n",
    "整个过程包括数据生成、参数初始化、前向传播、反向传播以及结果的可视化。"
   ]
  },
  {
   "cell_type": "code",
   "execution_count": 1,
   "id": "2746f165",
   "metadata": {},
   "outputs": [],
   "source": [
    "# 导入必要的库\n",
    "import numpy as np\n",
    "import matplotlib.pyplot as plt"
   ]
  },
  {
   "cell_type": "markdown",
   "id": "e4eee507",
   "metadata": {},
   "source": [
    "## 定义目标函数和数据生成\n",
    "\n",
    "目标函数定义为：\n",
    "\n",
    "$$ f(x)=\\sin(x)+0.1x^2 $$\n",
    "\n",
    "同时，定义了 `generate_data` 函数，在区间 [-5, 5] 内随机生成样本数据，其中训练集包含 1000 个样本，测试集包含 200 个均匀采样的数据。"
   ]
  },
  {
   "cell_type": "code",
   "execution_count": 2,
   "id": "23bf3e54",
   "metadata": {},
   "outputs": [],
   "source": [
    "# 定义目标函数\n",
    "def target_func(x):\n",
    "    return np.sin(x) + 0.1 * (x ** 2)\n",
    "\n",
    "# 生成训练和测试数据的函数\n",
    "def generate_data(n):\n",
    "    x = np.random.uniform(-5, 5, size=(n, 1))\n",
    "    y = target_func(x)\n",
    "    return x, y\n",
    "\n",
    "# 生成数据：训练集1000个样本，测试集200个均匀采样\n",
    "x_train, y_train = generate_data(1000)\n",
    "x_test = np.linspace(-5, 5, 200).reshape(-1, 1)\n",
    "y_test = target_func(x_test)"
   ]
  },
  {
   "cell_type": "markdown",
   "id": "cb0d6a78",
   "metadata": {},
   "source": [
    "## 参数初始化及权重初始化\n",
    "\n",
    "设置网络结构和训练参数：\n",
    "\n",
    "- 输入层维度：1\n",
    "- 隐藏层单元数：64\n",
    "- 输出层维度：1\n",
    "- 学习率：0.001\n",
    "- 训练轮数（epochs）：5000\n",
    "- 批量大小：32\n",
    "\n",
    "采用 He 初始化方法初始化权重。"
   ]
  },
  {
   "cell_type": "code",
   "execution_count": 3,
   "id": "5bc89346",
   "metadata": {},
   "outputs": [],
   "source": [
    "# 参数初始化\n",
    "input_size = 1\n",
    "hidden_units = 64\n",
    "output_size = 1\n",
    "learning_rate = 0.001\n",
    "epochs = 5000\n",
    "batch_size = 32\n",
    "\n",
    "# He 初始化权重\n",
    "np.random.seed(42)\n",
    "W1 = np.random.randn(input_size, hidden_units) * np.sqrt(2. / input_size)\n",
    "b1 = np.zeros((1, hidden_units))\n",
    "W2 = np.random.randn(hidden_units, output_size) * np.sqrt(2. / hidden_units)\n",
    "b2 = np.zeros((1, output_size))"
   ]
  },
  {
   "cell_type": "markdown",
   "id": "fd135cca",
   "metadata": {},
   "source": [
    "## 定义前向传播函数和均方误差损失\n",
    "\n",
    "前向传播函数 `forward` 包括隐藏层计算和 ReLU 激活，输出层为线性变换；\n",
    "\n",
    "同时定义了均方误差（MSE）作为损失函数。"
   ]
  },
  {
   "cell_type": "code",
   "execution_count": 4,
   "id": "a6748bd3",
   "metadata": {},
   "outputs": [],
   "source": [
    "# 前向传播函数\n",
    "def forward(x):\n",
    "    h1 = np.dot(x, W1) + b1\n",
    "    h1_relu = np.maximum(0, h1)  # ReLU 激活\n",
    "    y_pred = np.dot(h1_relu, W2) + b2\n",
    "    return y_pred, h1_relu\n",
    "\n",
    "# 均方误差损失函数\n",
    "def mse_loss(y_pred, y_true):\n",
    "    return np.mean((y_pred - y_true) ** 2)"
   ]
  },
  {
   "cell_type": "markdown",
   "id": "8f881fe2",
   "metadata": {},
   "source": [
    "## 训练循环\n",
    "\n",
    "训练过程中，首先将训练数据打乱，然后按小批量进行前向传播、计算梯度、反向传播并更新参数。\n",
    "\n",
    "每个 epoch 结束后，计算并记录训练集和测试集的损失，同时每 100 个 epoch 输出一次当前的损失情况。"
   ]
  },
  {
   "cell_type": "code",
   "execution_count": 5,
   "id": "c662bbfb",
   "metadata": {},
   "outputs": [
    {
     "name": "stdout",
     "output_type": "stream",
     "text": [
      "Epoch 0, Train Loss: 0.5946, Test Loss: 0.5937\n",
      "Epoch 100, Train Loss: 0.2046, Test Loss: 0.2074\n",
      "Epoch 200, Train Loss: 0.1068, Test Loss: 0.1095\n",
      "Epoch 300, Train Loss: 0.0763, Test Loss: 0.0788\n",
      "Epoch 400, Train Loss: 0.0602, Test Loss: 0.0638\n",
      "Epoch 500, Train Loss: 0.0434, Test Loss: 0.0453\n",
      "Epoch 600, Train Loss: 0.0336, Test Loss: 0.0356\n",
      "Epoch 700, Train Loss: 0.0273, Test Loss: 0.0290\n",
      "Epoch 800, Train Loss: 0.0236, Test Loss: 0.0255\n",
      "Epoch 900, Train Loss: 0.0210, Test Loss: 0.0225\n",
      "Epoch 1000, Train Loss: 0.0191, Test Loss: 0.0208\n",
      "Epoch 1100, Train Loss: 0.0178, Test Loss: 0.0193\n",
      "Epoch 1200, Train Loss: 0.0176, Test Loss: 0.0189\n",
      "Epoch 1300, Train Loss: 0.0162, Test Loss: 0.0175\n",
      "Epoch 1400, Train Loss: 0.0156, Test Loss: 0.0169\n",
      "Epoch 1500, Train Loss: 0.0152, Test Loss: 0.0166\n",
      "Epoch 1600, Train Loss: 0.0155, Test Loss: 0.0170\n",
      "Epoch 1700, Train Loss: 0.0146, Test Loss: 0.0158\n",
      "Epoch 1800, Train Loss: 0.0140, Test Loss: 0.0153\n",
      "Epoch 1900, Train Loss: 0.0141, Test Loss: 0.0153\n",
      "Epoch 2000, Train Loss: 0.0137, Test Loss: 0.0150\n",
      "Epoch 2100, Train Loss: 0.0134, Test Loss: 0.0146\n",
      "Epoch 2200, Train Loss: 0.0133, Test Loss: 0.0145\n",
      "Epoch 2300, Train Loss: 0.0132, Test Loss: 0.0143\n",
      "Epoch 2400, Train Loss: 0.0130, Test Loss: 0.0141\n",
      "Epoch 2500, Train Loss: 0.0129, Test Loss: 0.0140\n",
      "Epoch 2600, Train Loss: 0.0129, Test Loss: 0.0140\n",
      "Epoch 2700, Train Loss: 0.0128, Test Loss: 0.0139\n",
      "Epoch 2800, Train Loss: 0.0130, Test Loss: 0.0142\n",
      "Epoch 2900, Train Loss: 0.0128, Test Loss: 0.0141\n",
      "Epoch 3000, Train Loss: 0.0126, Test Loss: 0.0137\n",
      "Epoch 3100, Train Loss: 0.0128, Test Loss: 0.0141\n",
      "Epoch 3200, Train Loss: 0.0126, Test Loss: 0.0137\n",
      "Epoch 3300, Train Loss: 0.0126, Test Loss: 0.0138\n",
      "Epoch 3400, Train Loss: 0.0128, Test Loss: 0.0139\n",
      "Epoch 3500, Train Loss: 0.0124, Test Loss: 0.0134\n",
      "Epoch 3600, Train Loss: 0.0124, Test Loss: 0.0135\n",
      "Epoch 3700, Train Loss: 0.0126, Test Loss: 0.0136\n",
      "Epoch 3800, Train Loss: 0.0123, Test Loss: 0.0134\n",
      "Epoch 3900, Train Loss: 0.0125, Test Loss: 0.0135\n",
      "Epoch 4000, Train Loss: 0.0126, Test Loss: 0.0135\n",
      "Epoch 4100, Train Loss: 0.0128, Test Loss: 0.0141\n",
      "Epoch 4200, Train Loss: 0.0123, Test Loss: 0.0134\n",
      "Epoch 4300, Train Loss: 0.0123, Test Loss: 0.0133\n",
      "Epoch 4400, Train Loss: 0.0127, Test Loss: 0.0137\n",
      "Epoch 4500, Train Loss: 0.0123, Test Loss: 0.0134\n",
      "Epoch 4600, Train Loss: 0.0123, Test Loss: 0.0134\n",
      "Epoch 4700, Train Loss: 0.0128, Test Loss: 0.0137\n",
      "Epoch 4800, Train Loss: 0.0124, Test Loss: 0.0137\n",
      "Epoch 4900, Train Loss: 0.0124, Test Loss: 0.0134\n"
     ]
    }
   ],
   "source": [
    "# 训练循环\n",
    "train_losses = []\n",
    "test_losses = []\n",
    "\n",
    "for epoch in range(epochs):\n",
    "    # 打乱训练数据\n",
    "    permutation = np.random.permutation(len(x_train))\n",
    "    x_shuffled = x_train[permutation]\n",
    "    y_shuffled = y_train[permutation]\n",
    "    \n",
    "    # 小批量训练\n",
    "    for i in range(0, len(x_train), batch_size):\n",
    "        x_batch = x_shuffled[i:i+batch_size]\n",
    "        y_batch = y_shuffled[i:i+batch_size]\n",
    "        \n",
    "        # 前向传播\n",
    "        y_pred, h1_relu = forward(x_batch)\n",
    "        \n",
    "        # 计算梯度\n",
    "        grad_y_pred = 2 * (y_pred - y_batch) / batch_size\n",
    "        \n",
    "        # 反向传播，计算各层梯度\n",
    "        dW2 = np.dot(h1_relu.T, grad_y_pred)\n",
    "        db2 = np.sum(grad_y_pred, axis=0, keepdims=True)\n",
    "        \n",
    "        grad_h1_relu = np.dot(grad_y_pred, W2.T)\n",
    "        grad_h1 = grad_h1_relu * (h1_relu > 0)  # ReLU 导数\n",
    "        \n",
    "        dW1 = np.dot(x_batch.T, grad_h1)\n",
    "        db1 = np.sum(grad_h1, axis=0, keepdims=True)\n",
    "        \n",
    "        # 更新参数\n",
    "        W1 -= learning_rate * dW1\n",
    "        b1 -= learning_rate * db1\n",
    "        W2 -= learning_rate * dW2\n",
    "        b2 -= learning_rate * db2\n",
    "    \n",
    "    # 每个 epoch 结束后计算训练和测试损失\n",
    "    train_pred, _ = forward(x_train)\n",
    "    train_loss = mse_loss(train_pred, y_train)\n",
    "    test_pred, _ = forward(x_test)\n",
    "    test_loss = mse_loss(test_pred, y_test)\n",
    "    train_losses.append(train_loss)\n",
    "    test_losses.append(test_loss)\n",
    "    \n",
    "    if epoch % 100 == 0:\n",
    "        print(f'Epoch {epoch}, Train Loss: {train_loss:.4f}, Test Loss: {test_loss:.4f}')"
   ]
  },
  {
   "cell_type": "markdown",
   "id": "e338ed30",
   "metadata": {},
   "source": [
    "## 绘制损失曲线\n",
    "\n",
    "训练完成后，绘制训练集和测试集的损失曲线，以观察模型的收敛情况。"
   ]
  },
  {
   "cell_type": "code",
   "execution_count": 6,
   "id": "df21aa4c",
   "metadata": {},
   "outputs": [
    {
     "data": {
      "image/png": "[encoded data removed]",
      "text/plain": [
       "<Figure size 640x480 with 1 Axes>"
      ]
     },
     "metadata": {},
     "output_type": "display_data"
    }
   ],
   "source": [
    "# 绘制损失曲线\n",
    "plt.plot(train_losses, label='Training Loss')\n",
    "plt.plot(test_losses, label='Test Loss')\n",
    "plt.legend()\n",
    "plt.show()"
   ]
  },
  {
   "cell_type": "markdown",
   "id": "2ead3cc3",
   "metadata": {},
   "source": [
    "## 绘制真实函数与模型预测对比\n",
    "\n",
    "最后，将训练数据、真实的目标函数曲线以及模型预测的曲线绘制在同一图中进行比较。"
   ]
  },
  {
   "cell_type": "code",
   "execution_count": 7,
   "id": "09dca84b",
   "metadata": {},
   "outputs": [
    {
     "data": {
      "image/png": "[encoded data removed]",
      "text/plain": [
       "<Figure size 640x480 with 1 Axes>"
      ]
     },
     "metadata": {},
     "output_type": "display_data"
    }
   ],
   "source": [
    "# 绘制真实函数与模型预测对比\n",
    "plt.scatter(x_train, y_train, s=5, label='Training Data')\n",
    "plt.plot(x_test, y_test, label='True Function', color='green')\n",
    "plt.plot(x_test, forward(x_test)[0], label='Model Prediction', color='red')\n",
    "plt.legend()\n",
    "plt.xlim(-4.5, 1.5)\n",
    "plt.show()"
   ]
  }
 ],
 "metadata": {
  "kernelspec": {
   "display_name": "tf",
   "language": "python",
   "name": "python3"
  },
  "language_info": {
   "codemirror_mode": {
    "name": "ipython",
    "version": 3
   },
   "file_extension": ".py",
   "mimetype": "text/x-python",
   "name": "python",
   "nbconvert_exporter": "python",
   "pygments_lexer": "ipython3",
   "version": "3.9.18"
  }
 },
 "nbformat": 4,
 "nbformat_minor": 5
}
